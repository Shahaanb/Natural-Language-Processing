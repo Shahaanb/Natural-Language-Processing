{
  "cells": [
    {
      "cell_type": "markdown",
      "metadata": {
        "id": "view-in-github",
        "colab_type": "text"
      },
      "source": [
        "<a href=\"https://colab.research.google.com/github/Shahaanb/Natural-Language-Processing/blob/main/NLP_Lab1.ipynb\" target=\"_parent\"><img src=\"https://colab.research.google.com/assets/colab-badge.svg\" alt=\"Open In Colab\"/></a>"
      ]
    },
    {
      "cell_type": "code",
      "execution_count": 1,
      "id": "62ff1225",
      "metadata": {
        "colab": {
          "base_uri": "https://localhost:8080/"
        },
        "id": "62ff1225",
        "outputId": "b62b4855-bd77-47d1-dc54-000654205dfd"
      },
      "outputs": [
        {
          "output_type": "stream",
          "name": "stdout",
          "text": [
            "Though neither by temperament nor conviction a revolutionist, Dostoevsky\n",
            "was one of a little group of young men who met together to read Fourier\n",
            "and Proudhon. He was accused of taking part in conversations against\n",
            "the censorship, of reading a letter from Byelinsky to Gogol, and of\n",
            "knowing of the intention to set up a printing press. Under Nicholas\n",
            "I. (that stern and just man, as Maurice Baring calls him) this was\n",
            "enough, and he was condemned to death. After eight months imprisonment\n",
            "he was with twenty-one others taken out to the Semyonovsky Square to\n",
            "be shot. Writing to his brother Mihail, Dostoevsky says: They snapped\n",
            "words over our heads, and they made us put on the white shirts worn by\n",
            "persons condemned to death. Thereupon we were bound in threes to stakes,\n",
            "to suffer execution. Being the third in the row, I concluded I had only\n",
            "a few minutes of life before me. I thought of you and your dear ones and\n",
            "I contrived to kiss Plestcheiev and Dourov, who were next to me, and to\n",
            "bid them farewell. Suddenly the troops beat a tattoo, we were unbound,\n",
            "brought back upon the scaffold, and informed that his Majesty had spared\n",
            "us our lives. The sentence was commuted to hard labour.\n"
          ]
        }
      ],
      "source": [
        "import nltk\n",
        "import re\n",
        "#nltk.download('all')\n",
        "OG_raw = '''Though neither by temperament nor conviction a revolutionist, Dostoevsky\n",
        "was one of a little group of young men who met together to read Fourier\n",
        "and Proudhon. He was accused of taking part in conversations against\n",
        "the censorship, of reading a letter from Byelinsky to Gogol, and of\n",
        "knowing of the intention to set up a printing press. Under Nicholas\n",
        "I. (that stern and just man, as Maurice Baring calls him) this was\n",
        "enough, and he was condemned to death. After eight months imprisonment\n",
        "he was with twenty-one others taken out to the Semyonovsky Square to\n",
        "be shot. Writing to his brother Mihail, Dostoevsky says: They snapped\n",
        "words over our heads, and they made us put on the white shirts worn by\n",
        "persons condemned to death. Thereupon we were bound in threes to stakes,\n",
        "to suffer execution. Being the third in the row, I concluded I had only\n",
        "a few minutes of life before me. I thought of you and your dear ones and\n",
        "I contrived to kiss Plestcheiev and Dourov, who were next to me, and to\n",
        "bid them farewell. Suddenly the troops beat a tattoo, we were unbound,\n",
        "brought back upon the scaffold, and informed that his Majesty had spared\n",
        "us our lives. The sentence was commuted to hard labour.'''\n",
        "print(OG_raw)"
      ]
    },
    {
      "cell_type": "code",
      "execution_count": 2,
      "id": "24035b18",
      "metadata": {
        "colab": {
          "base_uri": "https://localhost:8080/"
        },
        "id": "24035b18",
        "outputId": "85071119-ef03-475f-f834-85d9e9f59158"
      },
      "outputs": [
        {
          "output_type": "stream",
          "name": "stdout",
          "text": [
            "['Though neither by temperament nor conviction a revolutionist  Dostoevsky was one of a little group of young men who met together to read Fourier and Proudhon', ' He was accused of taking part in conversations against the censorship  of reading a letter from Byelinsky to Gogol  and of knowing of the intention to set up a printing press', ' Under Nicholas I', '  that stern and just man  as Maurice Baring calls him  this was enough  and he was condemned to death', ' After eight months imprisonment he was with twenty-one others taken out to the Semyonovsky Square to be shot', ' Writing to his brother Mihail  Dostoevsky says  They snapped words over our heads  and they made us put on the white shirts worn by persons condemned to death', ' Thereupon we were bound in threes to stakes  to suffer execution', ' Being the third in the row  I concluded I had only a few minutes of life before me', ' I thought of you and your dear ones and I contrived to kiss Plestcheiev and Dourov  who were next to me  and to bid them farewell', ' Suddenly the troops beat a tattoo  we were unbound  brought back upon the scaffold  and informed that his Majesty had spared us our lives', ' The sentence was commuted to hard labour', '']\n"
          ]
        }
      ],
      "source": [
        "#Punctuation Removal\n",
        "raw = OG_raw.replace(\"\\n\",\" \")\n",
        "raw = raw.replace(\",\",\" \")\n",
        "raw = raw.replace(\"(\",\" \")\n",
        "raw = raw.replace(\")\",\" \")\n",
        "raw = raw.replace(\":\",\" \")\n",
        "\n",
        "#Seperated to Sentences\n",
        "Sentences = raw.split(\".\")\n",
        "print(Sentences)"
      ]
    },
    {
      "cell_type": "code",
      "execution_count": 3,
      "id": "4ca1ae52",
      "metadata": {
        "colab": {
          "base_uri": "https://localhost:8080/"
        },
        "id": "4ca1ae52",
        "outputId": "35f13bab-51f6-4086-f46b-f6ff1b2de8ff"
      },
      "outputs": [
        {
          "output_type": "stream",
          "name": "stdout",
          "text": [
            "['though', 'neither', 'by', 'temperament', 'nor', 'conviction', 'a', 'revolutionist', 'dostoevsky', 'was', 'one', 'of', 'a', 'little', 'group', 'of', 'young', 'men', 'who', 'met', 'together', 'to', 'read', 'fourier', 'and', 'proudhon', 'he', 'was', 'accused', 'of', 'taking', 'part', 'in', 'conversations', 'against', 'the', 'censorship', 'of', 'reading', 'a', 'letter', 'from', 'byelinsky', 'to', 'gogol', 'and', 'of', 'knowing', 'of', 'the', 'intention', 'to', 'set', 'up', 'a', 'printing', 'press', 'under', 'nicholas', 'i', 'that', 'stern', 'and', 'just', 'man', 'as', 'maurice', 'baring', 'calls', 'him', 'this', 'was', 'enough', 'and', 'he', 'was', 'condemned', 'to', 'death', 'after', 'eight', 'months', 'imprisonment', 'he', 'was', 'with', 'twenty-one', 'others', 'taken', 'out', 'to', 'the', 'semyonovsky', 'square', 'to', 'be', 'shot', 'writing', 'to', 'his', 'brother', 'mihail', 'dostoevsky', 'says', 'they', 'snapped', 'words', 'over', 'our', 'heads', 'and', 'they', 'made', 'us', 'put', 'on', 'the', 'white', 'shirts', 'worn', 'by', 'persons', 'condemned', 'to', 'death', 'thereupon', 'we', 'were', 'bound', 'in', 'threes', 'to', 'stakes', 'to', 'suffer', 'execution', 'being', 'the', 'third', 'in', 'the', 'row', 'i', 'concluded', 'i', 'had', 'only', 'a', 'few', 'minutes', 'of', 'life', 'before', 'me', 'i', 'thought', 'of', 'you', 'and', 'your', 'dear', 'ones', 'and', 'i', 'contrived', 'to', 'kiss', 'plestcheiev', 'and', 'dourov', 'who', 'were', 'next', 'to', 'me', 'and', 'to', 'bid', 'them', 'farewell', 'suddenly', 'the', 'troops', 'beat', 'a', 'tattoo', 'we', 'were', 'unbound', 'brought', 'back', 'upon', 'the', 'scaffold', 'and', 'informed', 'that', 'his', 'majesty', 'had', 'spared', 'us', 'our', 'lives', 'the', 'sentence', 'was', 'commuted', 'to', 'hard', 'labour']\n"
          ]
        }
      ],
      "source": [
        "#Seperated to Words\n",
        "Words = []\n",
        "for Sentence in Sentences:\n",
        "    Words = Words + (Sentence.lower().split(\" \"))\n",
        "\n",
        "#Cleant up Words\n",
        "Words = [word for word in Words if word != '']\n",
        "print(Words)"
      ]
    },
    {
      "cell_type": "code",
      "execution_count": 4,
      "id": "327c4708",
      "metadata": {
        "colab": {
          "base_uri": "https://localhost:8080/"
        },
        "id": "327c4708",
        "outputId": "618c0bbe-0c56-4312-ee04-ebb7cb1a88fe"
      },
      "outputs": [
        {
          "output_type": "stream",
          "name": "stdout",
          "text": [
            "['though', 'neither', 'temperament', 'conviction', 'revolutionist', 'dostoevsky', 'one', 'little', 'group', 'young', 'men', 'met', 'together', 'read', 'fourier', 'proudhon', 'accused', 'taking', 'part', 'conversations', 'censorship', 'reading', 'letter', 'byelinsky', 'gogol', 'knowing', 'intention', 'set', 'printing', 'press', 'nicholas', 'stern', 'man', 'maurice', 'baring', 'calls', 'enough', 'condemned', 'death', 'eight', 'months', 'imprisonment', 'twenty-one', 'others', 'taken', 'semyonovsky', 'square', 'shot', 'writing', 'brother', 'mihail', 'dostoevsky', 'says', 'snapped', 'words', 'heads', 'made', 'put', 'white', 'shirts', 'worn', 'persons', 'condemned', 'death', 'thereupon', 'bound', 'threes', 'stakes', 'suffer', 'execution', 'third', 'row', 'concluded', 'minutes', 'life', 'thought', 'dear', 'ones', 'contrived', 'kiss', 'plestcheiev', 'dourov', 'next', 'bid', 'farewell', 'suddenly', 'troops', 'beat', 'tattoo', 'unbound', 'brought', 'back', 'upon', 'scaffold', 'informed', 'majesty', 'spared', 'lives', 'sentence', 'commuted', 'hard', 'labour']\n"
          ]
        }
      ],
      "source": [
        "#Removing Stopwords\n",
        "stopwords = [\"i\", \"me\",\"us\", \"my\", \"myself\", \"we\", \"our\", \"ours\", \"ourselves\", \"you\", \"your\", \"yours\", \"yourself\", \"yourselves\", \"he\", \"him\", \"his\", \"himself\", \"she\", \"her\", \"hers\", \"herself\", \"it\", \"its\", \"itself\", \"they\", \"them\", \"their\", \"theirs\", \"themselves\", \"what\", \"which\", \"who\", \"whom\", \"this\", \"that\", \"these\", \"those\", \"am\", \"is\", \"are\", \"was\", \"were\", \"be\", \"been\", \"being\", \"have\", \"has\", \"had\", \"having\", \"do\", \"does\", \"did\", \"doing\", \"a\", \"an\", \"the\", \"and\", \"but\", \"if\", \"or\", \"because\", \"as\", \"until\", \"while\", \"of\", \"at\", \"by\", \"for\", \"with\", \"about\", \"against\", \"between\", \"into\", \"through\", \"during\", \"before\", \"after\", \"above\", \"below\", \"to\", \"from\", \"up\", \"down\", \"in\", \"out\", \"on\", \"off\", \"over\", \"under\", \"again\", \"further\", \"then\", \"once\", \"here\", \"there\", \"when\", \"where\", \"why\", \"how\", \"all\", \"any\", \"both\", \"each\", \"few\", \"more\", \"most\", \"other\", \"some\", \"such\", \"no\", \"nor\", \"not\", \"only\", \"own\", \"same\", \"so\", \"than\", \"too\", \"very\", \"s\", \"t\", \"can\", \"will\", \"just\", \"don\", \"should\", \"now\"]\n",
        "Word = [word for word in Words if word not in stopwords]\n",
        "print(Word)"
      ]
    },
    {
      "cell_type": "code",
      "execution_count": 5,
      "id": "53ce485d",
      "metadata": {
        "collapsed": true,
        "colab": {
          "base_uri": "https://localhost:8080/"
        },
        "id": "53ce485d",
        "outputId": "bf716366-c558-4684-f713-d4e488c0e76e"
      },
      "outputs": [
        {
          "output_type": "stream",
          "name": "stderr",
          "text": [
            "[nltk_data] Downloading collection 'all'\n",
            "[nltk_data]    | \n",
            "[nltk_data]    | Downloading package abc to /root/nltk_data...\n",
            "[nltk_data]    |   Unzipping corpora/abc.zip.\n",
            "[nltk_data]    | Downloading package alpino to /root/nltk_data...\n",
            "[nltk_data]    |   Unzipping corpora/alpino.zip.\n",
            "[nltk_data]    | Downloading package averaged_perceptron_tagger to\n",
            "[nltk_data]    |     /root/nltk_data...\n",
            "[nltk_data]    |   Unzipping taggers/averaged_perceptron_tagger.zip.\n",
            "[nltk_data]    | Downloading package averaged_perceptron_tagger_eng to\n",
            "[nltk_data]    |     /root/nltk_data...\n",
            "[nltk_data]    |   Unzipping\n",
            "[nltk_data]    |       taggers/averaged_perceptron_tagger_eng.zip.\n",
            "[nltk_data]    | Downloading package averaged_perceptron_tagger_ru to\n",
            "[nltk_data]    |     /root/nltk_data...\n",
            "[nltk_data]    |   Unzipping\n",
            "[nltk_data]    |       taggers/averaged_perceptron_tagger_ru.zip.\n",
            "[nltk_data]    | Downloading package averaged_perceptron_tagger_rus to\n",
            "[nltk_data]    |     /root/nltk_data...\n",
            "[nltk_data]    |   Unzipping\n",
            "[nltk_data]    |       taggers/averaged_perceptron_tagger_rus.zip.\n",
            "[nltk_data]    | Downloading package basque_grammars to\n",
            "[nltk_data]    |     /root/nltk_data...\n",
            "[nltk_data]    |   Unzipping grammars/basque_grammars.zip.\n",
            "[nltk_data]    | Downloading package bcp47 to /root/nltk_data...\n",
            "[nltk_data]    | Downloading package biocreative_ppi to\n",
            "[nltk_data]    |     /root/nltk_data...\n",
            "[nltk_data]    |   Unzipping corpora/biocreative_ppi.zip.\n",
            "[nltk_data]    | Downloading package bllip_wsj_no_aux to\n",
            "[nltk_data]    |     /root/nltk_data...\n",
            "[nltk_data]    |   Unzipping models/bllip_wsj_no_aux.zip.\n",
            "[nltk_data]    | Downloading package book_grammars to\n",
            "[nltk_data]    |     /root/nltk_data...\n",
            "[nltk_data]    |   Unzipping grammars/book_grammars.zip.\n",
            "[nltk_data]    | Downloading package brown to /root/nltk_data...\n",
            "[nltk_data]    |   Unzipping corpora/brown.zip.\n",
            "[nltk_data]    | Downloading package brown_tei to /root/nltk_data...\n",
            "[nltk_data]    |   Unzipping corpora/brown_tei.zip.\n",
            "[nltk_data]    | Downloading package cess_cat to /root/nltk_data...\n",
            "[nltk_data]    |   Unzipping corpora/cess_cat.zip.\n",
            "[nltk_data]    | Downloading package cess_esp to /root/nltk_data...\n",
            "[nltk_data]    |   Unzipping corpora/cess_esp.zip.\n",
            "[nltk_data]    | Downloading package chat80 to /root/nltk_data...\n",
            "[nltk_data]    |   Unzipping corpora/chat80.zip.\n",
            "[nltk_data]    | Downloading package city_database to\n",
            "[nltk_data]    |     /root/nltk_data...\n",
            "[nltk_data]    |   Unzipping corpora/city_database.zip.\n",
            "[nltk_data]    | Downloading package cmudict to /root/nltk_data...\n",
            "[nltk_data]    |   Unzipping corpora/cmudict.zip.\n",
            "[nltk_data]    | Downloading package comparative_sentences to\n",
            "[nltk_data]    |     /root/nltk_data...\n",
            "[nltk_data]    |   Unzipping corpora/comparative_sentences.zip.\n",
            "[nltk_data]    | Downloading package comtrans to /root/nltk_data...\n",
            "[nltk_data]    | Downloading package conll2000 to /root/nltk_data...\n",
            "[nltk_data]    |   Unzipping corpora/conll2000.zip.\n",
            "[nltk_data]    | Downloading package conll2002 to /root/nltk_data...\n",
            "[nltk_data]    |   Unzipping corpora/conll2002.zip.\n",
            "[nltk_data]    | Downloading package conll2007 to /root/nltk_data...\n",
            "[nltk_data]    | Downloading package crubadan to /root/nltk_data...\n",
            "[nltk_data]    |   Unzipping corpora/crubadan.zip.\n",
            "[nltk_data]    | Downloading package dependency_treebank to\n",
            "[nltk_data]    |     /root/nltk_data...\n",
            "[nltk_data]    |   Unzipping corpora/dependency_treebank.zip.\n",
            "[nltk_data]    | Downloading package dolch to /root/nltk_data...\n",
            "[nltk_data]    |   Unzipping corpora/dolch.zip.\n",
            "[nltk_data]    | Downloading package english_wordnet to\n",
            "[nltk_data]    |     /root/nltk_data...\n",
            "[nltk_data]    |   Unzipping corpora/english_wordnet.zip.\n",
            "[nltk_data]    | Downloading package europarl_raw to\n",
            "[nltk_data]    |     /root/nltk_data...\n",
            "[nltk_data]    |   Unzipping corpora/europarl_raw.zip.\n",
            "[nltk_data]    | Downloading package extended_omw to\n",
            "[nltk_data]    |     /root/nltk_data...\n",
            "[nltk_data]    | Downloading package floresta to /root/nltk_data...\n",
            "[nltk_data]    |   Unzipping corpora/floresta.zip.\n",
            "[nltk_data]    | Downloading package framenet_v15 to\n",
            "[nltk_data]    |     /root/nltk_data...\n",
            "[nltk_data]    |   Unzipping corpora/framenet_v15.zip.\n",
            "[nltk_data]    | Downloading package framenet_v17 to\n",
            "[nltk_data]    |     /root/nltk_data...\n",
            "[nltk_data]    |   Unzipping corpora/framenet_v17.zip.\n",
            "[nltk_data]    | Downloading package gazetteers to /root/nltk_data...\n",
            "[nltk_data]    |   Unzipping corpora/gazetteers.zip.\n",
            "[nltk_data]    | Downloading package genesis to /root/nltk_data...\n",
            "[nltk_data]    |   Unzipping corpora/genesis.zip.\n",
            "[nltk_data]    | Downloading package gutenberg to /root/nltk_data...\n",
            "[nltk_data]    |   Unzipping corpora/gutenberg.zip.\n",
            "[nltk_data]    | Downloading package ieer to /root/nltk_data...\n",
            "[nltk_data]    |   Unzipping corpora/ieer.zip.\n",
            "[nltk_data]    | Downloading package inaugural to /root/nltk_data...\n",
            "[nltk_data]    |   Unzipping corpora/inaugural.zip.\n",
            "[nltk_data]    | Downloading package indian to /root/nltk_data...\n",
            "[nltk_data]    |   Unzipping corpora/indian.zip.\n",
            "[nltk_data]    | Downloading package jeita to /root/nltk_data...\n",
            "[nltk_data]    | Downloading package kimmo to /root/nltk_data...\n",
            "[nltk_data]    |   Unzipping corpora/kimmo.zip.\n",
            "[nltk_data]    | Downloading package knbc to /root/nltk_data...\n",
            "[nltk_data]    | Downloading package large_grammars to\n",
            "[nltk_data]    |     /root/nltk_data...\n",
            "[nltk_data]    |   Unzipping grammars/large_grammars.zip.\n",
            "[nltk_data]    | Downloading package lin_thesaurus to\n",
            "[nltk_data]    |     /root/nltk_data...\n",
            "[nltk_data]    |   Unzipping corpora/lin_thesaurus.zip.\n",
            "[nltk_data]    | Downloading package mac_morpho to /root/nltk_data...\n",
            "[nltk_data]    |   Unzipping corpora/mac_morpho.zip.\n",
            "[nltk_data]    | Downloading package machado to /root/nltk_data...\n",
            "[nltk_data]    | Downloading package masc_tagged to /root/nltk_data...\n",
            "[nltk_data]    | Downloading package maxent_ne_chunker to\n",
            "[nltk_data]    |     /root/nltk_data...\n",
            "[nltk_data]    |   Unzipping chunkers/maxent_ne_chunker.zip.\n",
            "[nltk_data]    | Downloading package maxent_ne_chunker_tab to\n",
            "[nltk_data]    |     /root/nltk_data...\n",
            "[nltk_data]    |   Unzipping chunkers/maxent_ne_chunker_tab.zip.\n",
            "[nltk_data]    | Downloading package maxent_treebank_pos_tagger to\n",
            "[nltk_data]    |     /root/nltk_data...\n",
            "[nltk_data]    |   Unzipping taggers/maxent_treebank_pos_tagger.zip.\n",
            "[nltk_data]    | Downloading package maxent_treebank_pos_tagger_tab to\n",
            "[nltk_data]    |     /root/nltk_data...\n",
            "[nltk_data]    |   Unzipping\n",
            "[nltk_data]    |       taggers/maxent_treebank_pos_tagger_tab.zip.\n",
            "[nltk_data]    | Downloading package mock_corpus to /root/nltk_data...\n",
            "[nltk_data]    |   Unzipping corpora/mock_corpus.zip.\n",
            "[nltk_data]    | Downloading package moses_sample to\n",
            "[nltk_data]    |     /root/nltk_data...\n",
            "[nltk_data]    |   Unzipping models/moses_sample.zip.\n",
            "[nltk_data]    | Downloading package movie_reviews to\n",
            "[nltk_data]    |     /root/nltk_data...\n",
            "[nltk_data]    |   Unzipping corpora/movie_reviews.zip.\n",
            "[nltk_data]    | Downloading package mte_teip5 to /root/nltk_data...\n",
            "[nltk_data]    |   Unzipping corpora/mte_teip5.zip.\n",
            "[nltk_data]    | Downloading package mwa_ppdb to /root/nltk_data...\n",
            "[nltk_data]    |   Unzipping misc/mwa_ppdb.zip.\n",
            "[nltk_data]    | Downloading package names to /root/nltk_data...\n",
            "[nltk_data]    |   Unzipping corpora/names.zip.\n",
            "[nltk_data]    | Downloading package nombank.1.0 to /root/nltk_data...\n",
            "[nltk_data]    | Downloading package nonbreaking_prefixes to\n",
            "[nltk_data]    |     /root/nltk_data...\n",
            "[nltk_data]    |   Unzipping corpora/nonbreaking_prefixes.zip.\n",
            "[nltk_data]    | Downloading package nps_chat to /root/nltk_data...\n",
            "[nltk_data]    |   Unzipping corpora/nps_chat.zip.\n",
            "[nltk_data]    | Downloading package omw to /root/nltk_data...\n",
            "[nltk_data]    | Downloading package omw-1.4 to /root/nltk_data...\n",
            "[nltk_data]    | Downloading package opinion_lexicon to\n",
            "[nltk_data]    |     /root/nltk_data...\n",
            "[nltk_data]    |   Unzipping corpora/opinion_lexicon.zip.\n",
            "[nltk_data]    | Downloading package panlex_swadesh to\n",
            "[nltk_data]    |     /root/nltk_data...\n",
            "[nltk_data]    | Downloading package paradigms to /root/nltk_data...\n",
            "[nltk_data]    |   Unzipping corpora/paradigms.zip.\n",
            "[nltk_data]    | Downloading package pe08 to /root/nltk_data...\n",
            "[nltk_data]    |   Unzipping corpora/pe08.zip.\n",
            "[nltk_data]    | Downloading package perluniprops to\n",
            "[nltk_data]    |     /root/nltk_data...\n",
            "[nltk_data]    |   Unzipping misc/perluniprops.zip.\n",
            "[nltk_data]    | Downloading package pil to /root/nltk_data...\n",
            "[nltk_data]    |   Unzipping corpora/pil.zip.\n",
            "[nltk_data]    | Downloading package pl196x to /root/nltk_data...\n",
            "[nltk_data]    |   Unzipping corpora/pl196x.zip.\n",
            "[nltk_data]    | Downloading package porter_test to /root/nltk_data...\n",
            "[nltk_data]    |   Unzipping stemmers/porter_test.zip.\n",
            "[nltk_data]    | Downloading package ppattach to /root/nltk_data...\n",
            "[nltk_data]    |   Unzipping corpora/ppattach.zip.\n",
            "[nltk_data]    | Downloading package problem_reports to\n",
            "[nltk_data]    |     /root/nltk_data...\n",
            "[nltk_data]    |   Unzipping corpora/problem_reports.zip.\n",
            "[nltk_data]    | Downloading package product_reviews_1 to\n",
            "[nltk_data]    |     /root/nltk_data...\n",
            "[nltk_data]    |   Unzipping corpora/product_reviews_1.zip.\n",
            "[nltk_data]    | Downloading package product_reviews_2 to\n",
            "[nltk_data]    |     /root/nltk_data...\n",
            "[nltk_data]    |   Unzipping corpora/product_reviews_2.zip.\n",
            "[nltk_data]    | Downloading package propbank to /root/nltk_data...\n",
            "[nltk_data]    | Downloading package pros_cons to /root/nltk_data...\n",
            "[nltk_data]    |   Unzipping corpora/pros_cons.zip.\n",
            "[nltk_data]    | Downloading package ptb to /root/nltk_data...\n",
            "[nltk_data]    |   Unzipping corpora/ptb.zip.\n",
            "[nltk_data]    | Downloading package punkt to /root/nltk_data...\n",
            "[nltk_data]    |   Unzipping tokenizers/punkt.zip.\n",
            "[nltk_data]    | Downloading package punkt_tab to /root/nltk_data...\n",
            "[nltk_data]    |   Unzipping tokenizers/punkt_tab.zip.\n",
            "[nltk_data]    | Downloading package qc to /root/nltk_data...\n",
            "[nltk_data]    |   Unzipping corpora/qc.zip.\n",
            "[nltk_data]    | Downloading package reuters to /root/nltk_data...\n",
            "[nltk_data]    | Downloading package rslp to /root/nltk_data...\n",
            "[nltk_data]    |   Unzipping stemmers/rslp.zip.\n",
            "[nltk_data]    | Downloading package rte to /root/nltk_data...\n",
            "[nltk_data]    |   Unzipping corpora/rte.zip.\n",
            "[nltk_data]    | Downloading package sample_grammars to\n",
            "[nltk_data]    |     /root/nltk_data...\n",
            "[nltk_data]    |   Unzipping grammars/sample_grammars.zip.\n",
            "[nltk_data]    | Downloading package semcor to /root/nltk_data...\n",
            "[nltk_data]    | Downloading package senseval to /root/nltk_data...\n",
            "[nltk_data]    |   Unzipping corpora/senseval.zip.\n",
            "[nltk_data]    | Downloading package sentence_polarity to\n",
            "[nltk_data]    |     /root/nltk_data...\n",
            "[nltk_data]    |   Unzipping corpora/sentence_polarity.zip.\n",
            "[nltk_data]    | Downloading package sentiwordnet to\n",
            "[nltk_data]    |     /root/nltk_data...\n",
            "[nltk_data]    |   Unzipping corpora/sentiwordnet.zip.\n",
            "[nltk_data]    | Downloading package shakespeare to /root/nltk_data...\n",
            "[nltk_data]    |   Unzipping corpora/shakespeare.zip.\n",
            "[nltk_data]    | Downloading package sinica_treebank to\n",
            "[nltk_data]    |     /root/nltk_data...\n",
            "[nltk_data]    |   Unzipping corpora/sinica_treebank.zip.\n",
            "[nltk_data]    | Downloading package smultron to /root/nltk_data...\n",
            "[nltk_data]    |   Unzipping corpora/smultron.zip.\n",
            "[nltk_data]    | Downloading package snowball_data to\n",
            "[nltk_data]    |     /root/nltk_data...\n",
            "[nltk_data]    | Downloading package spanish_grammars to\n",
            "[nltk_data]    |     /root/nltk_data...\n",
            "[nltk_data]    |   Unzipping grammars/spanish_grammars.zip.\n",
            "[nltk_data]    | Downloading package state_union to /root/nltk_data...\n",
            "[nltk_data]    |   Unzipping corpora/state_union.zip.\n",
            "[nltk_data]    | Downloading package stopwords to /root/nltk_data...\n",
            "[nltk_data]    |   Unzipping corpora/stopwords.zip.\n",
            "[nltk_data]    | Downloading package subjectivity to\n",
            "[nltk_data]    |     /root/nltk_data...\n",
            "[nltk_data]    |   Unzipping corpora/subjectivity.zip.\n",
            "[nltk_data]    | Downloading package swadesh to /root/nltk_data...\n",
            "[nltk_data]    |   Unzipping corpora/swadesh.zip.\n",
            "[nltk_data]    | Downloading package switchboard to /root/nltk_data...\n",
            "[nltk_data]    |   Unzipping corpora/switchboard.zip.\n",
            "[nltk_data]    | Downloading package tagsets to /root/nltk_data...\n",
            "[nltk_data]    |   Unzipping help/tagsets.zip.\n",
            "[nltk_data]    | Downloading package tagsets_json to\n",
            "[nltk_data]    |     /root/nltk_data...\n",
            "[nltk_data]    |   Unzipping help/tagsets_json.zip.\n",
            "[nltk_data]    | Downloading package timit to /root/nltk_data...\n",
            "[nltk_data]    |   Unzipping corpora/timit.zip.\n",
            "[nltk_data]    | Downloading package toolbox to /root/nltk_data...\n",
            "[nltk_data]    |   Unzipping corpora/toolbox.zip.\n",
            "[nltk_data]    | Downloading package treebank to /root/nltk_data...\n",
            "[nltk_data]    |   Unzipping corpora/treebank.zip.\n",
            "[nltk_data]    | Downloading package twitter_samples to\n",
            "[nltk_data]    |     /root/nltk_data...\n",
            "[nltk_data]    |   Unzipping corpora/twitter_samples.zip.\n",
            "[nltk_data]    | Downloading package udhr to /root/nltk_data...\n",
            "[nltk_data]    |   Unzipping corpora/udhr.zip.\n",
            "[nltk_data]    | Downloading package udhr2 to /root/nltk_data...\n",
            "[nltk_data]    |   Unzipping corpora/udhr2.zip.\n",
            "[nltk_data]    | Downloading package unicode_samples to\n",
            "[nltk_data]    |     /root/nltk_data...\n",
            "[nltk_data]    |   Unzipping corpora/unicode_samples.zip.\n",
            "[nltk_data]    | Downloading package universal_tagset to\n",
            "[nltk_data]    |     /root/nltk_data...\n",
            "[nltk_data]    |   Unzipping taggers/universal_tagset.zip.\n",
            "[nltk_data]    | Downloading package universal_treebanks_v20 to\n",
            "[nltk_data]    |     /root/nltk_data...\n",
            "[nltk_data]    | Downloading package vader_lexicon to\n",
            "[nltk_data]    |     /root/nltk_data...\n",
            "[nltk_data]    | Downloading package verbnet to /root/nltk_data...\n",
            "[nltk_data]    |   Unzipping corpora/verbnet.zip.\n",
            "[nltk_data]    | Downloading package verbnet3 to /root/nltk_data...\n",
            "[nltk_data]    |   Unzipping corpora/verbnet3.zip.\n",
            "[nltk_data]    | Downloading package webtext to /root/nltk_data...\n",
            "[nltk_data]    |   Unzipping corpora/webtext.zip.\n",
            "[nltk_data]    | Downloading package wmt15_eval to /root/nltk_data...\n",
            "[nltk_data]    |   Unzipping models/wmt15_eval.zip.\n",
            "[nltk_data]    | Downloading package word2vec_sample to\n",
            "[nltk_data]    |     /root/nltk_data...\n",
            "[nltk_data]    |   Unzipping models/word2vec_sample.zip.\n",
            "[nltk_data]    | Downloading package wordnet to /root/nltk_data...\n",
            "[nltk_data]    | Downloading package wordnet2021 to /root/nltk_data...\n",
            "[nltk_data]    | Downloading package wordnet2022 to /root/nltk_data...\n",
            "[nltk_data]    |   Unzipping corpora/wordnet2022.zip.\n",
            "[nltk_data]    | Downloading package wordnet31 to /root/nltk_data...\n",
            "[nltk_data]    | Downloading package wordnet_ic to /root/nltk_data...\n",
            "[nltk_data]    |   Unzipping corpora/wordnet_ic.zip.\n",
            "[nltk_data]    | Downloading package words to /root/nltk_data...\n",
            "[nltk_data]    |   Unzipping corpora/words.zip.\n",
            "[nltk_data]    | Downloading package ycoe to /root/nltk_data...\n",
            "[nltk_data]    |   Unzipping corpora/ycoe.zip.\n",
            "[nltk_data]    | \n",
            "[nltk_data]  Done downloading collection all\n"
          ]
        },
        {
          "output_type": "execute_result",
          "data": {
            "text/plain": [
              "True"
            ]
          },
          "metadata": {},
          "execution_count": 5
        }
      ],
      "source": [
        "nltk.download('all')"
      ]
    },
    {
      "cell_type": "code",
      "execution_count": 6,
      "id": "98f48864",
      "metadata": {
        "id": "98f48864"
      },
      "outputs": [],
      "source": [
        "import string\n",
        "\n",
        "text = OG_raw\n",
        "translator = str.maketrans('', '', string.punctuation)\n",
        "\n",
        "cleaned_text = text.translate(translator)\n",
        "cleaned_text = cleaned_text.lower()\n",
        "\n",
        "Sentences = nltk.sent_tokenize(cleaned_text)\n",
        "Words = nltk.word_tokenize(cleaned_text)\n"
      ]
    },
    {
      "cell_type": "code",
      "execution_count": 7,
      "id": "7e84a2b1",
      "metadata": {
        "id": "7e84a2b1"
      },
      "outputs": [],
      "source": [
        "from nltk.corpus import stopwords\n",
        "stop_words = set(stopwords.words('english'))\n",
        "Words = [word for word in Words if word not in stop_words]"
      ]
    },
    {
      "cell_type": "code",
      "execution_count": 8,
      "id": "071848fb",
      "metadata": {
        "id": "071848fb"
      },
      "outputs": [],
      "source": [
        "porter = nltk.stem.PorterStemmer()\n",
        "lemmatizer = nltk.stem.WordNetLemmatizer()\n",
        "stemmed = []\n",
        "lemmed = []\n",
        "for w in Words:\n",
        "    stemmed.append(porter.stem(w))\n",
        "    lemmed.append(lemmatizer.lemmatize(f\"{w}\", 'v'))\n"
      ]
    },
    {
      "cell_type": "code",
      "execution_count": 9,
      "id": "655fd674",
      "metadata": {
        "colab": {
          "base_uri": "https://localhost:8080/"
        },
        "id": "655fd674",
        "outputId": "1e9e0968-dc2b-4c61-b436-c92029eba3bb"
      },
      "outputs": [
        {
          "output_type": "stream",
          "name": "stdout",
          "text": [
            "Stemmed Words: ['though', 'neither', 'tempera', 'convict', 'revolutionist', 'dostoevski', 'one', 'littl', 'group', 'young', 'men', 'met', 'togeth', 'read', 'fourier', 'proudhon', 'accus', 'take', 'part', 'convers', 'censorship', 'read', 'letter', 'byelinski', 'gogol', 'know', 'intent', 'set', 'print', 'press', 'nichola', 'stern', 'man', 'mauric', 'bare', 'call', 'enough', 'condemn', 'death', 'eight', 'month', 'imprison', 'twentyon', 'other', 'taken', 'semyonovski', 'squar', 'shot', 'write', 'brother', 'mihail', 'dostoevski', 'say', 'snap', 'word', 'head', 'made', 'us', 'put', 'white', 'shirt', 'worn', 'person', 'condemn', 'death', 'thereupon', 'bound', 'three', 'stake', 'suffer', 'execut', 'third', 'row', 'conclud', 'minut', 'life', 'thought', 'dear', 'one', 'contriv', 'kiss', 'plestcheiev', 'dourov', 'next', 'bid', 'farewel', 'suddenli', 'troop', 'beat', 'tattoo', 'unbound', 'brought', 'back', 'upon', 'scaffold', 'inform', 'majesti', 'spare', 'us', 'live', 'sentenc', 'commut', 'hard', 'labour']\n",
            "\n",
            "\n",
            "Lemmed Words: ['though', 'neither', 'temperament', 'conviction', 'revolutionist', 'dostoevsky', 'one', 'little', 'group', 'young', 'men', 'meet', 'together', 'read', 'fourier', 'proudhon', 'accuse', 'take', 'part', 'conversations', 'censorship', 'read', 'letter', 'byelinsky', 'gogol', 'know', 'intention', 'set', 'print', 'press', 'nicholas', 'stern', 'man', 'maurice', 'bar', 'call', 'enough', 'condemn', 'death', 'eight', 'months', 'imprisonment', 'twentyone', 'others', 'take', 'semyonovsky', 'square', 'shoot', 'write', 'brother', 'mihail', 'dostoevsky', 'say', 'snap', 'word', 'head', 'make', 'us', 'put', 'white', 'shirt', 'wear', 'persons', 'condemn', 'death', 'thereupon', 'bind', 'threes', 'stake', 'suffer', 'execution', 'third', 'row', 'conclude', 'minutes', 'life', 'think', 'dear', 'ones', 'contrive', 'kiss', 'plestcheiev', 'dourov', 'next', 'bid', 'farewell', 'suddenly', 'troop', 'beat', 'tattoo', 'unbind', 'bring', 'back', 'upon', 'scaffold', 'inform', 'majesty', 'spar', 'us', 'live', 'sentence', 'commute', 'hard', 'labour']\n"
          ]
        }
      ],
      "source": [
        "print(f\"Stemmed Words: {stemmed}\\n\\n\")\n",
        "print(f\"Lemmed Words: {lemmed}\")"
      ]
    },
    {
      "cell_type": "code",
      "execution_count": 10,
      "id": "a1656099",
      "metadata": {
        "id": "a1656099"
      },
      "outputs": [],
      "source": [
        "#DO POSTAGGING"
      ]
    },
    {
      "cell_type": "code",
      "execution_count": 10,
      "id": "bf3db843",
      "metadata": {
        "id": "bf3db843"
      },
      "outputs": [],
      "source": []
    },
    {
      "cell_type": "markdown",
      "id": "d16bd137",
      "metadata": {
        "id": "d16bd137"
      },
      "source": [
        "1.\tWhat is the purpose of stemming in natural language processing?\n",
        "\n",
        "a) To convert words to their base or root form\n",
        "\n",
        "Answer: b) To identify the parts of speech in a sentence\n",
        "\n",
        "c) To group similar words together based on their meaning\n",
        "\n",
        "d) To remove stop words from a sentence\n"
      ]
    },
    {
      "cell_type": "markdown",
      "id": "b6791736",
      "metadata": {
        "id": "b6791736"
      },
      "source": [
        "2.\tWhat is the purpose of part-of-speech tagging in natural language processing?\n",
        "\n",
        "a) To identify the subject and object of a sentence\n",
        "\n",
        "Answer:  b) To determine the overall sentiment of a text\n",
        "\n",
        "c) To assign a grammatical category to each word in a sentence\n",
        "\n",
        "d) To translate a text from one language to another\n"
      ]
    },
    {
      "cell_type": "markdown",
      "id": "48240d84",
      "metadata": {
        "id": "48240d84"
      },
      "source": [
        " 3.\tWhich of the following is an example of a pre-processing step in natural language processing?\n",
        "\n",
        "a) Creating a language model\n",
        "\n",
        "b) Identifying named entities in a text\n",
        "\n",
        "Answer:  c) Tokenization\n",
        "\n",
        "d) Text classification"
      ]
    },
    {
      "cell_type": "markdown",
      "id": "6201d76b",
      "metadata": {
        "id": "6201d76b"
      },
      "source": [
        "4.\tWhat is the main challenge/s of NLP?\n",
        "\n",
        "a) Handling Ambiguity of Sentences\n",
        "\n",
        "b) Handling Tokenization\n",
        "\n",
        "c) Handling POS-Tagging\n",
        "\n",
        "Answer:  d) All of the mentioned\n"
      ]
    },
    {
      "cell_type": "code",
      "execution_count": 10,
      "id": "22e83cca",
      "metadata": {
        "id": "22e83cca"
      },
      "outputs": [],
      "source": []
    }
  ],
  "metadata": {
    "kernelspec": {
      "display_name": "Python 3 (ipykernel)",
      "language": "python",
      "name": "python3"
    },
    "language_info": {
      "codemirror_mode": {
        "name": "ipython",
        "version": 3
      },
      "file_extension": ".py",
      "mimetype": "text/x-python",
      "name": "python",
      "nbconvert_exporter": "python",
      "pygments_lexer": "ipython3",
      "version": "3.9.13"
    },
    "colab": {
      "provenance": [],
      "include_colab_link": true
    }
  },
  "nbformat": 4,
  "nbformat_minor": 5
}